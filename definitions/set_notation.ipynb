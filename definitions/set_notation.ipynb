{
 "cells": [
  {
   "cell_type": "markdown",
   "metadata": {},
   "source": [
    "# Set Notation"
   ]
  },
  {
   "cell_type": "markdown",
   "metadata": {},
   "source": [
    "A **set** $S$ is a collection of elements. We use the following notation.\n",
    "\n",
    "- **Element** - We write $x \\in S$ to mean the element $x$ is in the set $S$.\n",
    "- **Subset** - We say the set $A$ is a subset of $S$ if all of its items are in $S$. We write this as $A \\subset S$.\n",
    "- **Complement** - The complement of $A$ in $S$ is the set of elements of $S$that are not in $A$. We write this as $A^C$ or $S - A$.\n",
    "- **Union** - The union of $A$ and $B$ is the set of all elements in $A$ **or** $B$ (or both). We write this as $A \\cup B$.\n",
    "- **Empty set** - The empty set is the set with no elements. We denote it $\\emptyset$."
   ]
  }
 ],
 "metadata": {
  "kernelspec": {
   "display_name": "Python 3",
   "language": "python",
   "name": "python3"
  },
  "language_info": {
   "codemirror_mode": {
    "name": "ipython",
    "version": 3
   },
   "file_extension": ".py",
   "mimetype": "text/x-python",
   "name": "python",
   "nbconvert_exporter": "python",
   "pygments_lexer": "ipython3",
   "version": "3.7.3"
  }
 },
 "nbformat": 4,
 "nbformat_minor": 2
}
