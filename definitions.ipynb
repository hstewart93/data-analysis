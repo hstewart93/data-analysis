{
 "cells": [
  {
   "cell_type": "markdown",
   "metadata": {},
   "source": [
    "# Definitions"
   ]
  },
  {
   "cell_type": "markdown",
   "metadata": {},
   "source": [
    "## Set Notation\n",
    "\n",
    "A **set** $S$ is a collection of elements. We use the following notation.\n",
    "\n",
    "- **Element**: We write $x \\in S$ to mean the element $x$ is in the set $S$.\n",
    "- **Subset**: We say the set $A$ is a subset of $S$ if all of its items are in $S$. We write this as $A \\subset S$.\n",
    "- **Complement**: The complement of $A$ in $S$ is the set of elements of $S$that are not in $A$. We write this as $A^C$ or $S - A$.\n",
    "- **Union**: The union of $A$ and $B$ is the set of all elements in $A$ **or** $B$ (or both). We write this as $A \\cup B$.\n",
    "- **Empty set**: The empty set is the set with no elements. We denote it $\\emptyset$.\n",
    "- **Disjoint**: $A$ and $B$ are disjoint if they have no common elements. That is, if $A \\cap B = \\emptyset$.\n",
    "- **Difference**: The difference of $A$ and $B$ is the set of elements in $A$ that are not in $B$. We write this as $A-B$."
   ]
  },
  {
   "cell_type": "markdown",
   "metadata": {},
   "source": [
    "## Permutations\n",
    "\n",
    "\n",
    "A **permutation** of a set is a particular ordering of its elements. For example, the set $\\{a, b, c\\}$ has six permuations: $abc, acb, bac, cab, cba$. We found the number of permutations by listing them all. We could also have found the number of permuations by using the **rule of product**. That is, there are 3 ways to pick the first element, then 2 ways for the second, and 1 for the first. This gives a total of $3\\cdot2\\cdot1=6$ permuations.\n",
    "\n",
    "In general the rule of product tells us that the number of permutations of a set of k elements is:\n",
    "\n",
    "\\begin{equation*}\n",
    "k! = k \\cdot (k-1)\n",
    "\\end{equation*}"
   ]
  },
  {
   "cell_type": "markdown",
   "metadata": {},
   "source": [
    "## Probability Terminology\n",
    "\n",
    "- **Experiment**: a repeatable procedure with well-defined possible outcomes.\n",
    "\n",
    "- **Sample space**: the set of all possible outcomes. We usually denote the sample space by $\\Omega$, sometimes by $S$.\n",
    "- **Event**: a subset of the sample space.\n",
    "- **Probability function**: a function giving the probability for each outcome.\n",
    "- **Probability density**:\n",
    "- **Random variable**: "
   ]
  },
  {
   "cell_type": "code",
   "execution_count": null,
   "metadata": {},
   "outputs": [],
   "source": []
  }
 ],
 "metadata": {
  "kernelspec": {
   "display_name": "Python 3",
   "language": "python",
   "name": "python3"
  },
  "language_info": {
   "codemirror_mode": {
    "name": "ipython",
    "version": 3
   },
   "file_extension": ".py",
   "mimetype": "text/x-python",
   "name": "python",
   "nbconvert_exporter": "python",
   "pygments_lexer": "ipython3",
   "version": "3.7.3"
  }
 },
 "nbformat": 4,
 "nbformat_minor": 2
}
